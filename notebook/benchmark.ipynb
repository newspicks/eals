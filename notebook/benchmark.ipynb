{
 "metadata": {
  "language_info": {
   "codemirror_mode": {
    "name": "ipython",
    "version": 3
   },
   "file_extension": ".py",
   "mimetype": "text/x-python",
   "name": "python",
   "nbconvert_exporter": "python",
   "pygments_lexer": "ipython3",
   "version": "3.9.4"
  },
  "orig_nbformat": 4,
  "kernelspec": {
   "name": "python3",
   "display_name": "Python 3.9.4 64-bit ('.venv': venv)"
  },
  "interpreter": {
   "hash": "a4aa3fbba624cf5c8c0120a6c1c389d02a27fd35702f8993b42188690264eab2"
  }
 },
 "nbformat": 4,
 "nbformat_minor": 2,
 "cells": [
  {
   "cell_type": "code",
   "execution_count": 1,
   "metadata": {},
   "outputs": [],
   "source": [
    "%%capture\n",
    "# ignore warnings in this cell\n",
    "%load_ext autoreload\n",
    "%autoreload 2\n",
    "\n",
    "import os\n",
    "os.environ[\"USE_NUMBA\"] = \"1\"\n",
    "import random\n",
    "\n",
    "from eals.eals import ElementwiseAlternatingLeastSquares\n",
    "from eals.util import create_user_items"
   ]
  },
  {
   "cell_type": "code",
   "execution_count": 2,
   "metadata": {},
   "outputs": [],
   "source": [
    "# Data preparation\n",
    "user_count = 2000\n",
    "item_count = 1000\n",
    "data_count = user_count * 20\n",
    "new_user_count = 200\n",
    "new_item_count = 100\n",
    "\n",
    "user_items = lambda: create_user_items(\n",
    "    user_count=user_count,\n",
    "    item_count=item_count,\n",
    "    data_count=data_count,\n",
    "    new_user_count=new_user_count,\n",
    "    new_item_count=new_item_count,\n",
    ")"
   ]
  },
  {
   "cell_type": "code",
   "execution_count": 3,
   "metadata": {},
   "outputs": [
    {
     "output_type": "stream",
     "name": "stdout",
     "text": [
      "CPU times: user 903 ms, sys: 89.9 ms, total: 993 ms\nWall time: 144 ms\n"
     ]
    }
   ],
   "source": [
    "# Benchmarking fit()\n",
    "\n",
    "model = ElementwiseAlternatingLeastSquares(max_iter=10)\n",
    "model.fit(user_items())  # warm up\n",
    "%time model.fit(user_items())"
   ]
  },
  {
   "cell_type": "code",
   "execution_count": 4,
   "metadata": {},
   "outputs": [
    {
     "output_type": "stream",
     "name": "stdout",
     "text": [
      "25.3 µs ± 458 ns per loop (mean ± std. dev. of 7 runs, 10000 loops each)\n",
      "8.83 µs ± 102 ns per loop (mean ± std. dev. of 7 runs, 100000 loops each)\n",
      "24.3 µs ± 973 ns per loop (mean ± std. dev. of 7 runs, 10000 loops each)\n"
     ]
    }
   ],
   "source": [
    "# Benchmarking update_user()\n",
    "\n",
    "# existing users only\n",
    "model = ElementwiseAlternatingLeastSquares()\n",
    "model.init_data(user_items())\n",
    "model.update_user(random.randrange(user_count))  # warm up\n",
    "%timeit model.update_user(random.randrange(user_count))\n",
    "\n",
    "# new users only\n",
    "model = ElementwiseAlternatingLeastSquares()\n",
    "model.init_data(user_items())\n",
    "model.update_user(random.randrange(user_count, user_count + new_user_count))  # warm up\n",
    "%timeit model.update_user(random.randrange(user_count, user_count + new_user_count))\n",
    "\n",
    "# mixed users\n",
    "model = ElementwiseAlternatingLeastSquares()\n",
    "model.init_data(user_items())\n",
    "model.update_user(random.randrange(user_count + new_user_count))  # warm up\n",
    "%timeit model.update_user(random.randrange(user_count + new_user_count))"
   ]
  },
  {
   "cell_type": "code",
   "execution_count": 5,
   "metadata": {},
   "outputs": [
    {
     "output_type": "stream",
     "name": "stdout",
     "text": [
      "31.4 µs ± 147 ns per loop (mean ± std. dev. of 7 runs, 10000 loops each)\n",
      "8.57 µs ± 44.4 ns per loop (mean ± std. dev. of 7 runs, 100000 loops each)\n",
      "29.5 µs ± 321 ns per loop (mean ± std. dev. of 7 runs, 10000 loops each)\n"
     ]
    }
   ],
   "source": [
    "# Benchmarking update_item()\n",
    "\n",
    "# existing items only\n",
    "model = ElementwiseAlternatingLeastSquares()\n",
    "model.init_data(user_items())\n",
    "model.update_item(random.randrange(item_count))  # warm up\n",
    "%timeit model.update_item(random.randrange(item_count))\n",
    "\n",
    "# new items only\n",
    "model = ElementwiseAlternatingLeastSquares()\n",
    "model.init_data(user_items())\n",
    "model.update_item(random.randrange(item_count, item_count + new_item_count))  # warm up\n",
    "%timeit model.update_item(random.randrange(item_count, item_count + new_item_count))\n",
    "\n",
    "# mixed items\n",
    "model = ElementwiseAlternatingLeastSquares()\n",
    "model.init_data(user_items())\n",
    "model.update_item(random.randrange(item_count + new_item_count))  # warm up\n",
    "%timeit model.update_item(random.randrange(item_count + new_item_count))"
   ]
  },
  {
   "cell_type": "code",
   "execution_count": 6,
   "metadata": {},
   "outputs": [
    {
     "output_type": "stream",
     "name": "stdout",
     "text": [
      "119 µs ± 2.28 µs per loop (mean ± std. dev. of 7 runs, 1000 loops each)\n"
     ]
    }
   ],
   "source": [
    "# Benchmarking update_model()\n",
    "model = ElementwiseAlternatingLeastSquares()\n",
    "model.init_data(user_items())\n",
    "model.update_model(random.randrange(user_count), random.randrange(item_count))  # warm up\n",
    "%timeit -n 1000 model.update_model(random.randrange(user_count), random.randrange(item_count))"
   ]
  },
  {
   "cell_type": "code",
   "execution_count": 7,
   "metadata": {},
   "outputs": [
    {
     "output_type": "stream",
     "name": "stdout",
     "text": [
      "3.4 ms ± 56.7 µs per loop (mean ± std. dev. of 7 runs, 100 loops each)\n"
     ]
    }
   ],
   "source": [
    "# Benchmarking calc_loss() for csr matrices\n",
    "model = ElementwiseAlternatingLeastSquares()\n",
    "model.init_data(user_items())\n",
    "model.calc_loss()  # warm up\n",
    "%timeit model.calc_loss()"
   ]
  },
  {
   "cell_type": "code",
   "execution_count": 8,
   "metadata": {},
   "outputs": [
    {
     "output_type": "stream",
     "name": "stdout",
     "text": [
      "13 ms ± 213 µs per loop (mean ± std. dev. of 7 runs, 100 loops each)\n"
     ]
    }
   ],
   "source": [
    "# Benchmarking calc_loss() for lil matrices\n",
    "model = ElementwiseAlternatingLeastSquares()\n",
    "model.init_data(user_items())\n",
    "model._convert_data_for_online_training()\n",
    "model.calc_loss()  # warm up\n",
    "%timeit model.calc_loss()"
   ]
  },
  {
   "cell_type": "code",
   "execution_count": 9,
   "metadata": {},
   "outputs": [
    {
     "output_type": "stream",
     "name": "stdout",
     "text": [
      "Benchmarking calc_loss()\n",
      "real data (2020-08-24-view0100.json), csr matrix\n",
      "  load data: (use cache: 2020-08-24-view0100-train_data.npy) 2.457181930541992 sec\n",
      "    user_count=1200777, item_count=110547\n",
      "  setup: 3.7112250328063965 sec\n",
      "  elapsed: 4.182994842529297 sec\n"
     ]
    }
   ],
   "source": [
    "%run benchmark.py -f 2020-08-24-view0100.json -m csr"
   ]
  },
  {
   "cell_type": "code",
   "execution_count": 10,
   "metadata": {},
   "outputs": [
    {
     "output_type": "stream",
     "name": "stdout",
     "text": [
      "Benchmarking calc_loss()\n",
      "real data (2020-08-24-view0100.json), lil matrix\n",
      "  load data: (use cache: 2020-08-24-view0100-train_data.npy) 2.387756109237671 sec\n",
      "    user_count=1200777, item_count=110547\n",
      "  setup: 30.067081928253174 sec\n",
      "  elapsed: 11.525154113769531 sec\n"
     ]
    }
   ],
   "source": [
    "%run benchmark.py -f 2020-08-24-view0100.json -m lil"
   ]
  },
  {
   "cell_type": "code",
   "execution_count": null,
   "metadata": {},
   "outputs": [],
   "source": []
  }
 ]
}