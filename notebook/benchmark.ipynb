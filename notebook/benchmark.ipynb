{
 "metadata": {
  "language_info": {
   "codemirror_mode": {
    "name": "ipython",
    "version": 3
   },
   "file_extension": ".py",
   "mimetype": "text/x-python",
   "name": "python",
   "nbconvert_exporter": "python",
   "pygments_lexer": "ipython3",
   "version": "3.9.4"
  },
  "orig_nbformat": 4,
  "kernelspec": {
   "name": "python3",
   "display_name": "Python 3.9.4 64-bit ('.venv': venv)"
  },
  "interpreter": {
   "hash": "c484902075b9b591018dc2ffc5e2cdb3938ae1c834da78dc157748a19c03d2a5"
  }
 },
 "nbformat": 4,
 "nbformat_minor": 2,
 "cells": [
  {
   "cell_type": "code",
   "execution_count": 1,
   "metadata": {},
   "outputs": [],
   "source": [
    "%%capture\n",
    "# ignore warnings in this cell\n",
    "%load_ext autoreload\n",
    "%autoreload 2\n",
    "\n",
    "import os\n",
    "os.environ[\"USE_NUMBA\"] = \"1\"\n",
    "import random\n",
    "\n",
    "from eals.eals import ElementwiseAlternatingLeastSquares, load_model\n",
    "from eals.util import create_user_items"
   ]
  },
  {
   "cell_type": "code",
   "execution_count": 2,
   "metadata": {},
   "outputs": [],
   "source": [
    "# Data preparation\n",
    "user_count = 2000\n",
    "item_count = 1000\n",
    "data_count = user_count * 20\n",
    "new_user_count = 200\n",
    "new_item_count = 100\n",
    "\n",
    "user_items = lambda: create_user_items(\n",
    "    user_count=user_count + new_user_count,\n",
    "    item_count=item_count + new_item_count,\n",
    "    data_count=data_count,\n",
    ")"
   ]
  },
  {
   "cell_type": "code",
   "execution_count": 3,
   "metadata": {},
   "outputs": [
    {
     "output_type": "stream",
     "name": "stdout",
     "text": [
      "CPU times: user 997 ms, sys: 96.4 ms, total: 1.09 s\nWall time: 172 ms\n"
     ]
    }
   ],
   "source": [
    "# Benchmarking fit()\n",
    "\n",
    "model = ElementwiseAlternatingLeastSquares(max_iter=10)\n",
    "model.fit(user_items())  # warm up\n",
    "%time model.fit(user_items())"
   ]
  },
  {
   "cell_type": "code",
   "execution_count": 4,
   "metadata": {},
   "outputs": [
    {
     "output_type": "stream",
     "name": "stdout",
     "text": [
      "26.3 µs ± 232 ns per loop (mean ± std. dev. of 7 runs, 10000 loops each)\n",
      "9.18 µs ± 86.5 ns per loop (mean ± std. dev. of 7 runs, 100000 loops each)\n",
      "25.4 µs ± 736 ns per loop (mean ± std. dev. of 7 runs, 10000 loops each)\n"
     ]
    }
   ],
   "source": [
    "# Benchmarking update_user()\n",
    "\n",
    "# existing users only\n",
    "model = ElementwiseAlternatingLeastSquares()\n",
    "model.init_data(user_items())\n",
    "model.update_user(random.randrange(user_count))  # warm up\n",
    "%timeit model.update_user(random.randrange(user_count))\n",
    "\n",
    "# new users only\n",
    "model = ElementwiseAlternatingLeastSquares()\n",
    "model.init_data(user_items())\n",
    "model.update_user(random.randrange(user_count, user_count + new_user_count))  # warm up\n",
    "%timeit model.update_user(random.randrange(user_count, user_count + new_user_count))\n",
    "\n",
    "# mixed users\n",
    "model = ElementwiseAlternatingLeastSquares()\n",
    "model.init_data(user_items())\n",
    "model.update_user(random.randrange(user_count + new_user_count))  # warm up\n",
    "%timeit model.update_user(random.randrange(user_count + new_user_count))"
   ]
  },
  {
   "cell_type": "code",
   "execution_count": 5,
   "metadata": {},
   "outputs": [
    {
     "output_type": "stream",
     "name": "stdout",
     "text": [
      "33.7 µs ± 208 ns per loop (mean ± std. dev. of 7 runs, 10000 loops each)\n",
      "9.24 µs ± 139 ns per loop (mean ± std. dev. of 7 runs, 100000 loops each)\n",
      "31.8 µs ± 390 ns per loop (mean ± std. dev. of 7 runs, 10000 loops each)\n"
     ]
    }
   ],
   "source": [
    "# Benchmarking update_item()\n",
    "\n",
    "# existing items only\n",
    "model = ElementwiseAlternatingLeastSquares()\n",
    "model.init_data(user_items())\n",
    "model.update_item(random.randrange(item_count))  # warm up\n",
    "%timeit model.update_item(random.randrange(item_count))\n",
    "\n",
    "# new items only\n",
    "model = ElementwiseAlternatingLeastSquares()\n",
    "model.init_data(user_items())\n",
    "model.update_item(random.randrange(item_count, item_count + new_item_count))  # warm up\n",
    "%timeit model.update_item(random.randrange(item_count, item_count + new_item_count))\n",
    "\n",
    "# mixed items\n",
    "model = ElementwiseAlternatingLeastSquares()\n",
    "model.init_data(user_items())\n",
    "model.update_item(random.randrange(item_count + new_item_count))  # warm up\n",
    "%timeit model.update_item(random.randrange(item_count + new_item_count))"
   ]
  },
  {
   "cell_type": "code",
   "execution_count": 6,
   "metadata": {},
   "outputs": [
    {
     "output_type": "stream",
     "name": "stdout",
     "text": [
      "130 µs ± 7.27 µs per loop (mean ± std. dev. of 7 runs, 1000 loops each)\n"
     ]
    }
   ],
   "source": [
    "# Benchmarking update_model()\n",
    "model = ElementwiseAlternatingLeastSquares()\n",
    "model.init_data(user_items())\n",
    "model.update_model(random.randrange(user_count), random.randrange(item_count))  # warm up\n",
    "%timeit -n 1000 model.update_model(random.randrange(user_count), random.randrange(item_count))"
   ]
  },
  {
   "cell_type": "code",
   "execution_count": 7,
   "metadata": {},
   "outputs": [
    {
     "output_type": "stream",
     "name": "stdout",
     "text": [
      "3.38 ms ± 17.7 µs per loop (mean ± std. dev. of 7 runs, 100 loops each)\n"
     ]
    }
   ],
   "source": [
    "# Benchmarking calc_loss() for csr matrices\n",
    "model = ElementwiseAlternatingLeastSquares()\n",
    "model.init_data(user_items())\n",
    "model.calc_loss()  # warm up\n",
    "%timeit model.calc_loss()"
   ]
  },
  {
   "cell_type": "code",
   "execution_count": 8,
   "metadata": {},
   "outputs": [
    {
     "output_type": "stream",
     "name": "stdout",
     "text": [
      "13.5 ms ± 307 µs per loop (mean ± std. dev. of 7 runs, 100 loops each)\n"
     ]
    }
   ],
   "source": [
    "# Benchmarking calc_loss() for lil matrices\n",
    "model = ElementwiseAlternatingLeastSquares()\n",
    "model.init_data(user_items())\n",
    "model._convert_data_for_online_training()\n",
    "model.calc_loss()  # warm up\n",
    "%timeit model.calc_loss()"
   ]
  },
  {
   "cell_type": "code",
   "execution_count": 9,
   "metadata": {},
   "outputs": [
    {
     "output_type": "stream",
     "name": "stdout",
     "text": [
      "Benchmarking calc_loss()\n",
      "real data (2020-08-24-view0100.json), csr matrix\n",
      "  load data: (use cache: 2020-08-24-view0100-train_data.npy) 2.502926826477051 sec\n",
      "    user_count=1200777, item_count=110547, nnz=37342551\n",
      "  setup: 3.760756015777588 sec\n",
      "  elapsed: 4.434885263442993 sec\n"
     ]
    }
   ],
   "source": [
    "%run benchmark.py -f 2020-08-24-view0100.json -m csr"
   ]
  },
  {
   "cell_type": "code",
   "execution_count": 10,
   "metadata": {},
   "outputs": [
    {
     "output_type": "stream",
     "name": "stdout",
     "text": [
      "Benchmarking calc_loss()\n",
      "real data (2020-08-24-view0100.json), lil matrix\n",
      "  load data: (use cache: 2020-08-24-view0100-train_data.npy) 2.098931074142456 sec\n",
      "    user_count=1200777, item_count=110547, nnz=37342551\n",
      "  setup: 30.239140033721924 sec\n",
      "  elapsed: 11.197751760482788 sec\n"
     ]
    }
   ],
   "source": [
    "%run benchmark.py -f 2020-08-24-view0100.json -m lil"
   ]
  },
  {
   "cell_type": "code",
   "execution_count": 11,
   "metadata": {},
   "outputs": [
    {
     "output_type": "stream",
     "name": "stdout",
     "text": [
      "Serialization without compression\n",
      "CPU times: user 6.54 s, sys: 2.76 s, total: 9.29 s\n",
      "Wall time: 9.67 s\n",
      "Deserialization without compression\n",
      "converting type of user_items to np.float32\n",
      "CPU times: user 1min 36s, sys: 1min 53s, total: 3min 30s\n",
      "Wall time: 4min 15s\n",
      "Serialization with compression\n",
      "CPU times: user 6min 57s, sys: 4.95 s, total: 7min 2s\n",
      "Wall time: 7min 7s\n",
      "Deserialization with compression\n",
      "converting type of user_items to np.float32\n",
      "CPU times: user 1min 50s, sys: 2min 9s, total: 4min\n",
      "Wall time: 4min 41s\n"
     ]
    }
   ],
   "source": [
    "# Model serializetion benchmark\n",
    "# 2020-08-24-view0100.json と大体同じサイズのランダムデータ\n",
    "ui = create_user_items(\n",
    "    user_count=1200000,\n",
    "    item_count=110000,\n",
    "    data_count=37000000\n",
    ")\n",
    "model = ElementwiseAlternatingLeastSquares()\n",
    "model.init_data(ui)\n",
    "model._convert_data_for_online_training()\n",
    "\n",
    "print(\"Serialization without compression\")\n",
    "%time model.save(\"model.json\", compress=False)\n",
    "print(\"Deserialization without compression\")\n",
    "%time model = load_model(\"model.json\")\n",
    "print(\"Serialization with compression\")\n",
    "%time model.save(\"model.json.gz\", compress=True)\n",
    "print(\"Deserialization with compression\")\n",
    "%time model = load_model(\"model.json.gz\")"
   ]
  },
  {
   "cell_type": "code",
   "execution_count": null,
   "metadata": {},
   "outputs": [],
   "source": []
  }
 ]
}