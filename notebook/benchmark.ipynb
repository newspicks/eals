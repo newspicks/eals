{
 "metadata": {
  "language_info": {
   "codemirror_mode": {
    "name": "ipython",
    "version": 3
   },
   "file_extension": ".py",
   "mimetype": "text/x-python",
   "name": "python",
   "nbconvert_exporter": "python",
   "pygments_lexer": "ipython3",
   "version": "3.9.4"
  },
  "orig_nbformat": 4,
  "kernelspec": {
   "name": "python3",
   "display_name": "Python 3.9.4 64-bit ('.venv': venv)"
  },
  "interpreter": {
   "hash": "c484902075b9b591018dc2ffc5e2cdb3938ae1c834da78dc157748a19c03d2a5"
  }
 },
 "nbformat": 4,
 "nbformat_minor": 2,
 "cells": [
  {
   "cell_type": "code",
   "execution_count": 1,
   "metadata": {},
   "outputs": [],
   "source": [
    "%%capture\n",
    "# ignore warnings in this cell\n",
    "%load_ext autoreload\n",
    "%autoreload 2\n",
    "\n",
    "import os\n",
    "os.environ[\"USE_NUMBA\"] = \"1\"\n",
    "import random\n",
    "\n",
    "from eals.eals import ElementwiseAlternatingLeastSquares\n",
    "from eals.util import create_user_items"
   ]
  },
  {
   "cell_type": "code",
   "execution_count": 2,
   "metadata": {},
   "outputs": [],
   "source": [
    "# Data preparation\n",
    "user_count = 2000\n",
    "item_count = 1000\n",
    "data_count = user_count * 20\n",
    "new_user_count = 200\n",
    "new_item_count = 100\n",
    "\n",
    "user_items = lambda: create_user_items(\n",
    "    user_count=user_count + new_user_count,\n",
    "    item_count=item_count + new_item_count,\n",
    "    data_count=data_count,\n",
    ")"
   ]
  },
  {
   "cell_type": "code",
   "execution_count": 3,
   "metadata": {},
   "outputs": [
    {
     "output_type": "stream",
     "name": "stdout",
     "text": [
      "CPU times: user 1 s, sys: 76.8 ms, total: 1.08 s\nWall time: 165 ms\n"
     ]
    }
   ],
   "source": [
    "# Benchmarking fit()\n",
    "\n",
    "model = ElementwiseAlternatingLeastSquares(max_iter=10)\n",
    "model.fit(user_items())  # warm up\n",
    "%time model.fit(user_items())"
   ]
  },
  {
   "cell_type": "code",
   "execution_count": 4,
   "metadata": {},
   "outputs": [
    {
     "output_type": "stream",
     "name": "stdout",
     "text": [
      "24.8 µs ± 315 ns per loop (mean ± std. dev. of 7 runs, 10000 loops each)\n",
      "25.3 µs ± 1.05 µs per loop (mean ± std. dev. of 7 runs, 10000 loops each)\n",
      "25.2 µs ± 1.11 µs per loop (mean ± std. dev. of 7 runs, 10000 loops each)\n"
     ]
    }
   ],
   "source": [
    "# Benchmarking update_user()\n",
    "\n",
    "# existing users only\n",
    "model = ElementwiseAlternatingLeastSquares()\n",
    "model.init_data(user_items())\n",
    "model.update_user(random.randrange(user_count))  # warm up\n",
    "%timeit model.update_user(random.randrange(user_count))\n",
    "\n",
    "# new users only\n",
    "model = ElementwiseAlternatingLeastSquares()\n",
    "model.init_data(user_items())\n",
    "model.update_user(random.randrange(user_count, user_count + new_user_count))  # warm up\n",
    "%timeit model.update_user(random.randrange(user_count, user_count + new_user_count))\n",
    "\n",
    "# mixed users\n",
    "model = ElementwiseAlternatingLeastSquares()\n",
    "model.init_data(user_items())\n",
    "model.update_user(random.randrange(user_count + new_user_count))  # warm up\n",
    "%timeit model.update_user(random.randrange(user_count + new_user_count))"
   ]
  },
  {
   "cell_type": "code",
   "execution_count": 5,
   "metadata": {},
   "outputs": [
    {
     "output_type": "stream",
     "name": "stdout",
     "text": [
      "31 µs ± 203 ns per loop (mean ± std. dev. of 7 runs, 10000 loops each)\n",
      "30.3 µs ± 508 ns per loop (mean ± std. dev. of 7 runs, 10000 loops each)\n",
      "31 µs ± 178 ns per loop (mean ± std. dev. of 7 runs, 10000 loops each)\n"
     ]
    }
   ],
   "source": [
    "# Benchmarking update_item()\n",
    "\n",
    "# existing items only\n",
    "model = ElementwiseAlternatingLeastSquares()\n",
    "model.init_data(user_items())\n",
    "model.update_item(random.randrange(item_count))  # warm up\n",
    "%timeit model.update_item(random.randrange(item_count))\n",
    "\n",
    "# new items only\n",
    "model = ElementwiseAlternatingLeastSquares()\n",
    "model.init_data(user_items())\n",
    "model.update_item(random.randrange(item_count, item_count + new_item_count))  # warm up\n",
    "%timeit model.update_item(random.randrange(item_count, item_count + new_item_count))\n",
    "\n",
    "# mixed items\n",
    "model = ElementwiseAlternatingLeastSquares()\n",
    "model.init_data(user_items())\n",
    "model.update_item(random.randrange(item_count + new_item_count))  # warm up\n",
    "%timeit model.update_item(random.randrange(item_count + new_item_count))"
   ]
  },
  {
   "cell_type": "code",
   "execution_count": 6,
   "metadata": {},
   "outputs": [
    {
     "output_type": "stream",
     "name": "stdout",
     "text": [
      "121 µs ± 2.37 µs per loop (mean ± std. dev. of 7 runs, 1000 loops each)\n"
     ]
    }
   ],
   "source": [
    "# Benchmarking update_model()\n",
    "model = ElementwiseAlternatingLeastSquares()\n",
    "model.init_data(user_items())\n",
    "model.update_model(random.randrange(user_count), random.randrange(item_count))  # warm up\n",
    "%timeit -n 1000 model.update_model(random.randrange(user_count), random.randrange(item_count))"
   ]
  },
  {
   "cell_type": "code",
   "execution_count": 7,
   "metadata": {},
   "outputs": [
    {
     "output_type": "stream",
     "name": "stdout",
     "text": [
      "3.36 ms ± 16.4 µs per loop (mean ± std. dev. of 7 runs, 100 loops each)\n"
     ]
    }
   ],
   "source": [
    "# Benchmarking calc_loss() for csr matrices\n",
    "model = ElementwiseAlternatingLeastSquares()\n",
    "model.init_data(user_items())\n",
    "model.calc_loss()  # warm up\n",
    "%timeit model.calc_loss()"
   ]
  },
  {
   "cell_type": "code",
   "execution_count": 8,
   "metadata": {},
   "outputs": [
    {
     "output_type": "stream",
     "name": "stdout",
     "text": [
      "13.3 ms ± 130 µs per loop (mean ± std. dev. of 7 runs, 100 loops each)\n"
     ]
    }
   ],
   "source": [
    "# Benchmarking calc_loss() for lil matrices\n",
    "model = ElementwiseAlternatingLeastSquares()\n",
    "model.init_data(user_items())\n",
    "model._convert_data_for_online_training()\n",
    "model.calc_loss()  # warm up\n",
    "%timeit model.calc_loss()"
   ]
  },
  {
   "cell_type": "code",
   "execution_count": 9,
   "metadata": {},
   "outputs": [
    {
     "output_type": "stream",
     "name": "stdout",
     "text": [
      "Benchmarking calc_loss()\n",
      "real data (2020-08-24-view0100.json), csr matrix\n",
      "  load data: (use cache: 2020-08-24-view0100-train_data.npy) 2.6212830543518066 sec\n",
      "    user_count=1200777, item_count=110547\n",
      "  setup: 3.7227489948272705 sec\n",
      "  elapsed: 4.254499197006226 sec\n"
     ]
    }
   ],
   "source": [
    "%run benchmark.py -f 2020-08-24-view0100.json -m csr"
   ]
  },
  {
   "cell_type": "code",
   "execution_count": 10,
   "metadata": {},
   "outputs": [
    {
     "output_type": "stream",
     "name": "stdout",
     "text": [
      "Benchmarking calc_loss()\n",
      "real data (2020-08-24-view0100.json), lil matrix\n",
      "  load data: (use cache: 2020-08-24-view0100-train_data.npy) 2.150024890899658 sec\n",
      "    user_count=1200777, item_count=110547\n",
      "  setup: 32.84961295127869 sec\n",
      "  elapsed: 12.16106390953064 sec\n"
     ]
    }
   ],
   "source": [
    "%run benchmark.py -f 2020-08-24-view0100.json -m lil"
   ]
  },
  {
   "cell_type": "code",
   "execution_count": null,
   "metadata": {},
   "outputs": [],
   "source": []
  }
 ]
}