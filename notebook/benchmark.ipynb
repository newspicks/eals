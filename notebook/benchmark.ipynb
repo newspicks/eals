{
 "metadata": {
  "language_info": {
   "codemirror_mode": {
    "name": "ipython",
    "version": 3
   },
   "file_extension": ".py",
   "mimetype": "text/x-python",
   "name": "python",
   "nbconvert_exporter": "python",
   "pygments_lexer": "ipython3",
   "version": "3.9.4"
  },
  "orig_nbformat": 4,
  "kernelspec": {
   "name": "python3",
   "display_name": "Python 3.9.4 64-bit ('.venv': venv)"
  },
  "interpreter": {
   "hash": "c484902075b9b591018dc2ffc5e2cdb3938ae1c834da78dc157748a19c03d2a5"
  }
 },
 "nbformat": 4,
 "nbformat_minor": 2,
 "cells": [
  {
   "cell_type": "code",
   "execution_count": 1,
   "metadata": {},
   "outputs": [],
   "source": [
    "%%capture\n",
    "# ignore warnings in this cell\n",
    "%load_ext autoreload\n",
    "%autoreload 2\n",
    "\n",
    "import os\n",
    "os.environ[\"USE_NUMBA\"] = \"1\"\n",
    "import random\n",
    "\n",
    "from eals.eals import ElementwiseAlternatingLeastSquares, load_model\n",
    "from eals.util import create_user_items"
   ]
  },
  {
   "cell_type": "code",
   "execution_count": 2,
   "metadata": {},
   "outputs": [],
   "source": [
    "# Data preparation\n",
    "user_count = 2000\n",
    "item_count = 1000\n",
    "data_count = user_count * 20\n",
    "new_user_count = 200\n",
    "new_item_count = 100\n",
    "\n",
    "user_items = lambda: create_user_items(\n",
    "    user_count=user_count + new_user_count,\n",
    "    item_count=item_count + new_item_count,\n",
    "    data_count=data_count,\n",
    ")"
   ]
  },
  {
   "cell_type": "code",
   "execution_count": 3,
   "metadata": {},
   "outputs": [
    {
     "output_type": "stream",
     "name": "stdout",
     "text": [
      "CPU times: user 962 ms, sys: 61.6 ms, total: 1.02 s\nWall time: 153 ms\n"
     ]
    }
   ],
   "source": [
    "# Benchmarking fit()\n",
    "\n",
    "model = ElementwiseAlternatingLeastSquares(max_iter=10)\n",
    "model.fit(user_items())  # warm up\n",
    "%time model.fit(user_items())"
   ]
  },
  {
   "cell_type": "code",
   "execution_count": 4,
   "metadata": {},
   "outputs": [
    {
     "output_type": "stream",
     "name": "stdout",
     "text": [
      "24.5 µs ± 366 ns per loop (mean ± std. dev. of 7 runs, 10000 loops each)\n",
      "24.3 µs ± 1.29 µs per loop (mean ± std. dev. of 7 runs, 10000 loops each)\n",
      "24.8 µs ± 234 ns per loop (mean ± std. dev. of 7 runs, 10000 loops each)\n"
     ]
    }
   ],
   "source": [
    "# Benchmarking update_user()\n",
    "\n",
    "# existing users only\n",
    "model = ElementwiseAlternatingLeastSquares()\n",
    "model.init_data(user_items())\n",
    "model.update_user(random.randrange(user_count))  # warm up\n",
    "%timeit model.update_user(random.randrange(user_count))\n",
    "\n",
    "# new users only\n",
    "model = ElementwiseAlternatingLeastSquares()\n",
    "model.init_data(user_items())\n",
    "model.update_user(random.randrange(user_count, user_count + new_user_count))  # warm up\n",
    "%timeit model.update_user(random.randrange(user_count, user_count + new_user_count))\n",
    "\n",
    "# mixed users\n",
    "model = ElementwiseAlternatingLeastSquares()\n",
    "model.init_data(user_items())\n",
    "model.update_user(random.randrange(user_count + new_user_count))  # warm up\n",
    "%timeit model.update_user(random.randrange(user_count + new_user_count))"
   ]
  },
  {
   "cell_type": "code",
   "execution_count": 5,
   "metadata": {},
   "outputs": [
    {
     "output_type": "stream",
     "name": "stdout",
     "text": [
      "31.4 µs ± 337 ns per loop (mean ± std. dev. of 7 runs, 10000 loops each)\n",
      "29.8 µs ± 278 ns per loop (mean ± std. dev. of 7 runs, 10000 loops each)\n",
      "31.1 µs ± 161 ns per loop (mean ± std. dev. of 7 runs, 10000 loops each)\n"
     ]
    }
   ],
   "source": [
    "# Benchmarking update_item()\n",
    "\n",
    "# existing items only\n",
    "model = ElementwiseAlternatingLeastSquares()\n",
    "model.init_data(user_items())\n",
    "model.update_item(random.randrange(item_count))  # warm up\n",
    "%timeit model.update_item(random.randrange(item_count))\n",
    "\n",
    "# new items only\n",
    "model = ElementwiseAlternatingLeastSquares()\n",
    "model.init_data(user_items())\n",
    "model.update_item(random.randrange(item_count, item_count + new_item_count))  # warm up\n",
    "%timeit model.update_item(random.randrange(item_count, item_count + new_item_count))\n",
    "\n",
    "# mixed items\n",
    "model = ElementwiseAlternatingLeastSquares()\n",
    "model.init_data(user_items())\n",
    "model.update_item(random.randrange(item_count + new_item_count))  # warm up\n",
    "%timeit model.update_item(random.randrange(item_count + new_item_count))"
   ]
  },
  {
   "cell_type": "code",
   "execution_count": 6,
   "metadata": {},
   "outputs": [
    {
     "output_type": "stream",
     "name": "stdout",
     "text": [
      "122 µs ± 2.62 µs per loop (mean ± std. dev. of 7 runs, 1000 loops each)\n"
     ]
    }
   ],
   "source": [
    "# Benchmarking update_model()\n",
    "model = ElementwiseAlternatingLeastSquares()\n",
    "model.init_data(user_items())\n",
    "model.update_model(random.randrange(user_count), random.randrange(item_count))  # warm up\n",
    "%timeit -n 1000 model.update_model(random.randrange(user_count), random.randrange(item_count))"
   ]
  },
  {
   "cell_type": "code",
   "execution_count": 7,
   "metadata": {},
   "outputs": [
    {
     "output_type": "stream",
     "name": "stdout",
     "text": [
      "3.39 ms ± 26.2 µs per loop (mean ± std. dev. of 7 runs, 100 loops each)\n"
     ]
    }
   ],
   "source": [
    "# Benchmarking calc_loss() for csr matrices\n",
    "model = ElementwiseAlternatingLeastSquares()\n",
    "model.init_data(user_items())\n",
    "model.calc_loss()  # warm up\n",
    "%timeit model.calc_loss()"
   ]
  },
  {
   "cell_type": "code",
   "execution_count": 8,
   "metadata": {},
   "outputs": [
    {
     "output_type": "stream",
     "name": "stdout",
     "text": [
      "13.3 ms ± 53.9 µs per loop (mean ± std. dev. of 7 runs, 100 loops each)\n"
     ]
    }
   ],
   "source": [
    "# Benchmarking calc_loss() for lil matrices\n",
    "model = ElementwiseAlternatingLeastSquares()\n",
    "model.init_data(user_items())\n",
    "model._convert_data_for_online_training()\n",
    "model.calc_loss()  # warm up\n",
    "%timeit model.calc_loss()"
   ]
  },
  {
   "cell_type": "code",
   "execution_count": 9,
   "metadata": {},
   "outputs": [
    {
     "output_type": "stream",
     "name": "stdout",
     "text": [
      "Benchmarking calc_loss()\n",
      "real data (2020-08-24-view0100.json), csr matrix\n",
      "  load data: (use cache: 2020-08-24-view0100-train_data.npy) 2.4458420276641846 sec\n",
      "    user_count=1200777, item_count=110547, nnz=37342551\n",
      "  setup: 3.680230140686035 sec\n",
      "  elapsed: 4.199114084243774 sec\n"
     ]
    }
   ],
   "source": [
    "# benchmark calc_loss() for a real data, csr matrix\n",
    "%run benchmark_calc_loss.py -f 2020-08-24-view0100.json -m csr"
   ]
  },
  {
   "cell_type": "code",
   "execution_count": 10,
   "metadata": {},
   "outputs": [
    {
     "output_type": "stream",
     "name": "stdout",
     "text": [
      "Benchmarking calc_loss()\n",
      "real data (2020-08-24-view0100.json), lil matrix\n",
      "  load data: (use cache: 2020-08-24-view0100-train_data.npy) 2.061575174331665 sec\n",
      "    user_count=1200777, item_count=110547, nnz=37342551\n",
      "  setup: 31.84101700782776 sec\n",
      "  elapsed: 13.002599954605103 sec\n"
     ]
    }
   ],
   "source": [
    "# benchmark calc_loss() for a real data, lil matrix\n",
    "%run benchmark_calc_loss.py -f 2020-08-24-view0100.json -m lil"
   ]
  },
  {
   "cell_type": "code",
   "execution_count": 11,
   "metadata": {},
   "outputs": [
    {
     "output_type": "stream",
     "name": "stdout",
     "text": [
      "serialize .json\n",
      "CPU times: user 6.54 s, sys: 2.65 s, total: 9.19 s\n",
      "Wall time: 9.79 s\n",
      "\n",
      "deserialize .json\n",
      "converting type of user_items to np.float32\n",
      "CPU times: user 1min 41s, sys: 2min 15s, total: 3min 56s\n",
      "Wall time: 4min 35s\n",
      "\n",
      "serialize .json.gz\n",
      "CPU times: user 6min 50s, sys: 4.75 s, total: 6min 55s\n",
      "Wall time: 6min 59s\n",
      "\n",
      "deserialize .json.gz\n",
      "converting type of user_items to np.float32\n",
      "CPU times: user 1min 43s, sys: 1min 50s, total: 3min 33s\n",
      "Wall time: 4min 7s\n",
      "\n",
      "serialize .joblib without compression\n",
      "CPU times: user 6.42 s, sys: 2.72 s, total: 9.14 s\n",
      "Wall time: 11 s\n",
      "\n",
      "deserialize .joblib without compression\n",
      "CPU times: user 27.9 s, sys: 14.8 s, total: 42.8 s\n",
      "Wall time: 46.9 s\n",
      "\n",
      "serialize .joblib with compression\n",
      "CPU times: user 18min 4s, sys: 6.45 s, total: 18min 10s\n",
      "Wall time: 18min 15s\n",
      "\n",
      "deserialize .joblib with compression\n",
      "CPU times: user 36.1 s, sys: 13.2 s, total: 49.3 s\n",
      "Wall time: 51.2 s\n"
     ]
    }
   ],
   "source": [
    "# Model serializetion benchmark\n",
    "# 2020-08-24-view0100.json と大体同じサイズのランダムデータ\n",
    "ui = create_user_items(\n",
    "    user_count=1200000,\n",
    "    item_count=110000,\n",
    "    data_count=37000000\n",
    ")\n",
    "model = ElementwiseAlternatingLeastSquares()\n",
    "model.init_data(ui)\n",
    "model._convert_data_for_online_training()\n",
    "\n",
    "print(\"serialize .json\")\n",
    "%time model.save(\"model.json\", compress=False)\n",
    "print()\n",
    "print(\"deserialize .json\")\n",
    "%time model = load_model(\"model.json\")\n",
    "print()\n",
    "print(\"serialize .json.gz\")\n",
    "%time model.save(\"model.json.gz\", compress=True)\n",
    "print()\n",
    "print(\"deserialize .json.gz\")\n",
    "%time model = load_model(\"model.json.gz\")\n",
    "print()\n",
    "print(\"serialize .joblib without compression\")\n",
    "%time model.save(\"model0.joblib\", compress=0)\n",
    "print()\n",
    "print(\"deserialize .joblib without compression\")\n",
    "%time model = load_model(\"model0.joblib\")\n",
    "print()\n",
    "print(\"serialize .joblib with compression\")\n",
    "%time model.save(\"model9.joblib\", compress=9)\n",
    "print()\n",
    "print(\"deserialize .joblib with compression\")\n",
    "%time model = load_model(\"model9.joblib\")"
   ]
  },
  {
   "cell_type": "code",
   "execution_count": 12,
   "metadata": {},
   "outputs": [
    {
     "output_type": "stream",
     "name": "stdout",
     "text": [
      "-rw-r--r--  1 michihiro.nakamura  staff   2.5G Jul 16 05:26 model.json\n-rw-r--r--  1 michihiro.nakamura  staff   988M Jul 16 05:37 model.json.gz\n-rw-r--r--  1 michihiro.nakamura  staff   2.5G Jul 16 05:42 model0.joblib\n-rw-r--r--  1 michihiro.nakamura  staff   1.3G Jul 16 06:01 model9.joblib\n"
     ]
    }
   ],
   "source": [
    "!ls -lh model*"
   ]
  },
  {
   "cell_type": "code",
   "execution_count": 13,
   "metadata": {},
   "outputs": [
    {
     "output_type": "error",
     "ename": "SyntaxError",
     "evalue": "invalid syntax (1272609549.py, line 1)",
     "traceback": [
      "\u001b[0;36m  File \u001b[0;32m\"/var/folders/5y/3d8jlsrx6rvc4_3rzl_qd6lr0000gp/T/ipykernel_18768/1272609549.py\"\u001b[0;36m, line \u001b[0;32m1\u001b[0m\n\u001b[0;31m    for i in range(1, 9)\u001b[0m\n\u001b[0m                        ^\u001b[0m\n\u001b[0;31mSyntaxError\u001b[0m\u001b[0;31m:\u001b[0m invalid syntax\n"
     ]
    }
   ],
   "source": [
    "for i in range(1, 9):\n",
    "    print(f\"serialize .joblib with compression level {i}\")\n",
    "    %time model.save(f\"model{i}.joblib\", compress=i)\n",
    "    print()\n",
    "    print(f\"deserialize .joblib with compression level {i}\")\n",
    "    %time model = load_model(f\"model{i}.joblib\")\n",
    "    print()"
   ]
  },
  {
   "cell_type": "code",
   "execution_count": null,
   "metadata": {},
   "outputs": [],
   "source": []
  }
 ]
}